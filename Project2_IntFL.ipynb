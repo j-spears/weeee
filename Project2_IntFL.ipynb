{
 "cells": [
  {
   "cell_type": "code",
   "execution_count": null,
   "id": "22229185",
   "metadata": {},
   "outputs": [],
   "source": [
    "# import matplotlib.pyplot as plt\n",
    "y=11.7265\n",
    "h=-5000\n",
    "dydx_int=y+h*(0.00035-(925*.022*(22+2*y*10**(1/2)/3)**(2/3))/(1.486*(22*y+1/3*y**2)**(5/3)))/(1-(925**2*(22+2/3*y)/(32.2*(22*y+1/3*y**2)**3)))\n",
    "dydx=y+h/2*((0.00035-(925*.022*(22+2*dydx_int*10**(1/2)/3)**(2/3))/(1.486*(22*dydx_int+1/3*dydx_int**2)**(5/3)))/(1-(925**2*(22+2/3*dydx_int)/(32.2*(22*dydx_int+1/3*dydx_int**2)**3))))+(0.00035-(925*.022*(22+2*y*10**(1/2)/3)**(2/3))/(1.486*(22*y+1/3*y**2)**(5/3)))/(1-(925**2*(22+2/3*y)/(32.2*(22*y+1/3*y**2)**3)))\n",
    "#print(\"y'=\", dydx_int)\n",
    "print(\"y=\", dydx)\n",
    "y=dydx\n",
    "dydx_int=y+h*(0.00035-(925*.022*(22+2*y*10**(1/2)/3)**(2/3))/(1.486*(22*y+1/3*y**2)**(5/3)))/(1-(925**2*(22+2/3*y)/(32.2*(22*y+1/3*y**2)**3)))\n",
    "dydx=y+h/2*((0.00035-(925*.022*(22+2*dydx_int*10**(1/2)/3)**(2/3))/(1.486*(22*dydx_int+1/3*dydx_int**2)**(5/3)))/(1-(925**2*(22+2/3*dydx_int)/(32.2*(22*dydx_int+1/3*dydx_int**2)**3))))+(0.00035-(925*.022*(22+2*y*10**(1/2)/3)**(2/3))/(1.486*(22*y+1/3*y**2)**(5/3)))/(1-(925**2*(22+2/3*y)/(32.2*(22*y+1/3*y**2)**3)))\n",
    "#print(\"y'=\", dydx_int)\n",
    "print(\"y=\", dydx)\n",
    "y=dydx\n",
    "dydx_int=y+h*(0.00035-(925*.022*(22+2*y*10**(1/2)/3)**(2/3))/(1.486*(22*y+1/3*y**2)**(5/3)))/(1-(925**2*(22+2/3*y)/(32.2*(22*y+1/3*y**2)**3)))\n",
    "dydx=y+h/2*((0.00035-(925*.022*(22+2*dydx_int*10**(1/2)/3)**(2/3))/(1.486*(22*dydx_int+1/3*dydx_int**2)**(5/3)))/(1-(925**2*(22+2/3*dydx_int)/(32.2*(22*dydx_int+1/3*dydx_int**2)**3))))+(0.00035-(925*.022*(22+2*y*10**(1/2)/3)**(2/3))/(1.486*(22*y+1/3*y**2)**(5/3)))/(1-(925**2*(22+2/3*y)/(32.2*(22*y+1/3*y**2)**3)))\n",
    "#print(\"y'=\", dydx_int)\n",
    "print(\"y=\", dydx)\n",
    "y=dydx\n",
    "dydx_int=y+h*(0.00035-(925*.022*(22+2*y*10**(1/2)/3)**(2/3))/(1.486*(22*y+1/3*y**2)**(5/3)))/(1-(925**2*(22+2/3*y)/(32.2*(22*y+1/3*y**2)**3)))\n",
    "dydx=y+h/2*((0.00035-(925*.022*(22+2*dydx_int*10**(1/2)/3)**(2/3))/(1.486*(22*dydx_int+1/3*dydx_int**2)**(5/3)))/(1-(925**2*(22+2/3*dydx_int)/(32.2*(22*dydx_int+1/3*dydx_int**2)**3))))+(0.00035-(925*.022*(22+2*y*10**(1/2)/3)**(2/3))/(1.486*(22*y+1/3*y**2)**(5/3)))/(1-(925**2*(22+2/3*y)/(32.2*(22*y+1/3*y**2)**3)))\n",
    "#print(\"y'=\", dydx_int)\n",
    "print(\"y=\", dydx)\n",
    "y=dydx\n",
    "dydx_int=y+h*(0.00035-(925*.022*(22+2*y*10**(1/2)/3)**(2/3))/(1.486*(22*y+1/3*y**2)**(5/3)))/(1-(925**2*(22+2/3*y)/(32.2*(22*y+1/3*y**2)**3)))\n",
    "dydx=y+h/2*((0.00035-(925*.022*(22+2*dydx_int*10**(1/2)/3)**(2/3))/(1.486*(22*dydx_int+1/3*dydx_int**2)**(5/3)))/(1-(925**2*(22+2/3*dydx_int)/(32.2*(22*dydx_int+1/3*dydx_int**2)**3))))+(0.00035-(925*.022*(22+2*y*10**(1/2)/3)**(2/3))/(1.486*(22*y+1/3*y**2)**(5/3)))/(1-(925**2*(22+2/3*y)/(32.2*(22*y+1/3*y**2)**3)))\n",
    "#print(\"y'=\", dydx_int)\n",
    "print(\"y=\", dydx)\n",
    "y=dydx\n",
    "dydx_int=y+h*(0.00035-(925*.022*(22+2*y*10**(1/2)/3)**(2/3))/(1.486*(22*y+1/3*y**2)**(5/3)))/(1-(925**2*(22+2/3*y)/(32.2*(22*y+1/3*y**2)**3)))\n",
    "dydx=y+h/2*((0.00035-(925*.022*(22+2*dydx_int*10**(1/2)/3)**(2/3))/(1.486*(22*dydx_int+1/3*dydx_int**2)**(5/3)))/(1-(925**2*(22+2/3*dydx_int)/(32.2*(22*dydx_int+1/3*dydx_int**2)**3))))+(0.00035-(925*.022*(22+2*y*10**(1/2)/3)**(2/3))/(1.486*(22*y+1/3*y**2)**(5/3)))/(1-(925**2*(22+2/3*y)/(32.2*(22*y+1/3*y**2)**3)))\n",
    "#print(\"y'=\", dydx_int)\n",
    "print(\"y=\", dydx)\n",
    "y=dydx\n",
    "dydx_int=y+h*(0.00035-(925*.022*(22+2*y*10**(1/2)/3)**(2/3))/(1.486*(22*y+1/3*y**2)**(5/3)))/(1-(925**2*(22+2/3*y)/(32.2*(22*y+1/3*y**2)**3)))\n",
    "dydx=y+h/2*((0.00035-(925*.022*(22+2*dydx_int*10**(1/2)/3)**(2/3))/(1.486*(22*dydx_int+1/3*dydx_int**2)**(5/3)))/(1-(925**2*(22+2/3*dydx_int)/(32.2*(22*dydx_int+1/3*dydx_int**2)**3))))+(0.00035-(925*.022*(22+2*y*10**(1/2)/3)**(2/3))/(1.486*(22*y+1/3*y**2)**(5/3)))/(1-(925**2*(22+2/3*y)/(32.2*(22*y+1/3*y**2)**3)))\n",
    "#print(\"y'=\", dydx_int)\n",
    "print(\"y=\", dydx)\n",
    "y=dydx\n",
    "dydx_int=y+h*(0.00035-(925*.022*(22+2*y*10**(1/2)/3)**(2/3))/(1.486*(22*y+1/3*y**2)**(5/3)))/(1-(925**2*(22+2/3*y)/(32.2*(22*y+1/3*y**2)**3)))\n",
    "dydx=y+h/2*((0.00035-(925*.022*(22+2*dydx_int*10**(1/2)/3)**(2/3))/(1.486*(22*dydx_int+1/3*dydx_int**2)**(5/3)))/(1-(925**2*(22+2/3*dydx_int)/(32.2*(22*dydx_int+1/3*dydx_int**2)**3))))+(0.00035-(925*.022*(22+2*y*10**(1/2)/3)**(2/3))/(1.486*(22*y+1/3*y**2)**(5/3)))/(1-(925**2*(22+2/3*y)/(32.2*(22*y+1/3*y**2)**3)))#\n",
    "#print(\"y'=\", dydx_int)\n",
    "print(\"y=\", dydx)\n",
    "y=dydx\n",
    "dydx_int=y+h*(0.00035-(925*.022*(22+2*y*10**(1/2)/3)**(2/3))/(1.486*(22*y+1/3*y**2)**(5/3)))/(1-(925**2*(22+2/3*y)/(32.2*(22*y+1/3*y**2)**3)))\n",
    "dydx=y+h/2*((0.00035-(925*.022*(22+2*dydx_int*10**(1/2)/3)**(2/3))/(1.486*(22*dydx_int+1/3*dydx_int**2)**(5/3)))/(1-(925**2*(22+2/3*dydx_int)/(32.2*(22*dydx_int+1/3*dydx_int**2)**3))))+(0.00035-(925*.022*(22+2*y*10**(1/2)/3)**(2/3))/(1.486*(22*y+1/3*y**2)**(5/3)))/(1-(925**2*(22+2/3*y)/(32.2*(22*y+1/3*y**2)**3)))\n",
    "#print(\"y'=\", dydx_int)\n",
    "print(\"y=\", dydx)\n",
    "y=dydx\n",
    "dydx_int=y+h*(0.00035-(925*.022*(22+2*y*10**(1/2)/3)**(2/3))/(1.486*(22*y+1/3*y**2)**(5/3)))/(1-(925**2*(22+2/3*y)/(32.2*(22*y+1/3*y**2)**3)))\n",
    "dydx=y+h/2*((0.00035-(925*.022*(22+2*dydx_int*10**(1/2)/3)**(2/3))/(1.486*(22*dydx_int+1/3*dydx_int**2)**(5/3)))/(1-(925**2*(22+2/3*dydx_int)/(32.2*(22*dydx_int+1/3*dydx_int**2)**3))))+(0.00035-(925*.022*(22+2*y*10**(1/2)/3)**(2/3))/(1.486*(22*y+1/3*y**2)**(5/3)))/(1-(925**2*(22+2/3*y)/(32.2*(22*y+1/3*y**2)**3)))\n",
    "#print(\"y'=\", dydx_int)\n",
    "print(\"y=\", dydx)\n",
    "y=dydx\n",
    "dydx_int=y+h*(0.00035-(925*.022*(22+2*y*10**(1/2)/3)**(2/3))/(1.486*(22*y+1/3*y**2)**(5/3)))/(1-(925**2*(22+2/3*y)/(32.2*(22*y+1/3*y**2)**3)))\n",
    "dydx=y+h/2*((0.00035-(925*.022*(22+2*dydx_int*10**(1/2)/3)**(2/3))/(1.486*(22*dydx_int+1/3*dydx_int**2)**(5/3)))/(1-(925**2*(22+2/3*dydx_int)/(32.2*(22*dydx_int+1/3*dydx_int**2)**3))))+(0.00035-(925*.022*(22+2*y*10**(1/2)/3)**(2/3))/(1.486*(22*y+1/3*y**2)**(5/3)))/(1-(925**2*(22+2/3*y)/(32.2*(22*y+1/3*y**2)**3)))\n",
    "#print(\"y'=\", dydx_int)\n",
    "print(\"y=\", dydx)\n",
    "y=dydx\n",
    "dydx_int=y+h*(0.00035-(925*.022*(22+2*y*10**(1/2)/3)**(2/3))/(1.486*(22*y+1/3*y**2)**(5/3)))/(1-(925**2*(22+2/3*y)/(32.2*(22*y+1/3*y**2)**3)))\n",
    "dydx=y+h/2*((0.00035-(925*.022*(22+2*dydx_int*10**(1/2)/3)**(2/3))/(1.486*(22*dydx_int+1/3*dydx_int**2)**(5/3)))/(1-(925**2*(22+2/3*dydx_int)/(32.2*(22*dydx_int+1/3*dydx_int**2)**3))))+(0.00035-(925*.022*(22+2*y*10**(1/2)/3)**(2/3))/(1.486*(22*y+1/3*y**2)**(5/3)))/(1-(925**2*(22+2/3*y)/(32.2*(22*y+1/3*y**2)**3)))\n",
    "#print(\"y'=\", dydx_int)\n",
    "print(\"y=\", dydx)\n",
    "y=dydx\n",
    "dydx_int=y+h*(0.00035-(925*.022*(22+2*y*10**(1/2)/3)**(2/3))/(1.486*(22*y+1/3*y**2)**(5/3)))/(1-(925**2*(22+2/3*y)/(32.2*(22*y+1/3*y**2)**3)))\n",
    "dydx=y+h/2*((0.00035-(925*.022*(22+2*dydx_int*10**(1/2)/3)**(2/3))/(1.486*(22*dydx_int+1/3*dydx_int**2)**(5/3)))/(1-(925**2*(22+2/3*dydx_int)/(32.2*(22*dydx_int+1/3*dydx_int**2)**3))))+(0.00035-(925*.022*(22+2*y*10**(1/2)/3)**(2/3))/(1.486*(22*y+1/3*y**2)**(5/3)))/(1-(925**2*(22+2/3*y)/(32.2*(22*y+1/3*y**2)**3)))\n",
    "#print(\"y'=\", dydx_int)\n",
    "print(\"y=\", dydx)\n",
    "plt.plot(h,y)"
   ]
  },
  {
   "cell_type": "raw",
   "id": "ffc79101",
   "metadata": {},
   "source": []
  },
  {
   "cell_type": "code",
   "execution_count": 48,
   "id": "6533413a",
   "metadata": {},
   "outputs": [
    {
     "name": "stdout",
     "output_type": "stream",
     "text": [
      "[50000 49000 48000 47000 46000 45000 44000 43000 42000 41000 40000 39000\n",
      " 38000 37000 36000 35000 34000 33000 32000 31000 30000 29000 28000 27000\n",
      " 26000 25000 24000 23000 22000 21000 20000 19000 18000 17000 16000 15000\n",
      " 14000 13000 12000 11000 10000  9000  8000  7000  6000  5000  4000  3000\n",
      "  2000  1000] [20.000222093541737]\n"
     ]
    },
    {
     "ename": "IndexError",
     "evalue": "list index out of range",
     "output_type": "error",
     "traceback": [
      "\u001b[1;31m---------------------------------------------------------------------------\u001b[0m",
      "\u001b[1;31mIndexError\u001b[0m                                Traceback (most recent call last)",
      "\u001b[1;32m~\\AppData\\Local\\Temp/ipykernel_9432/774775277.py\u001b[0m in \u001b[0;36m<module>\u001b[1;34m\u001b[0m\n\u001b[0;32m     33\u001b[0m \u001b[1;32mfor\u001b[0m \u001b[0mi\u001b[0m \u001b[1;32min\u001b[0m \u001b[1;33m[\u001b[0m\u001b[1;36m0\u001b[0m\u001b[1;33m,\u001b[0m \u001b[1;36m49\u001b[0m\u001b[1;33m]\u001b[0m\u001b[1;33m:\u001b[0m\u001b[1;33m\u001b[0m\u001b[1;33m\u001b[0m\u001b[0m\n\u001b[0;32m     34\u001b[0m \u001b[1;33m\u001b[0m\u001b[0m\n\u001b[1;32m---> 35\u001b[1;33m     \u001b[0my_intermediate\u001b[0m \u001b[1;33m=\u001b[0m \u001b[0my\u001b[0m\u001b[1;33m[\u001b[0m\u001b[0mi\u001b[0m\u001b[1;33m-\u001b[0m\u001b[1;36m1\u001b[0m\u001b[1;33m]\u001b[0m \u001b[1;33m+\u001b[0m \u001b[0mh\u001b[0m\u001b[1;33m*\u001b[0m\u001b[0masol\u001b[0m\u001b[1;33m(\u001b[0m\u001b[0mx\u001b[0m\u001b[1;33m[\u001b[0m\u001b[0mi\u001b[0m\u001b[1;33m-\u001b[0m\u001b[1;36m1\u001b[0m\u001b[1;33m]\u001b[0m\u001b[1;33m,\u001b[0m\u001b[0my\u001b[0m\u001b[1;33m[\u001b[0m\u001b[0mi\u001b[0m\u001b[1;33m-\u001b[0m\u001b[1;36m1\u001b[0m\u001b[1;33m]\u001b[0m\u001b[1;33m)\u001b[0m\u001b[1;33m\u001b[0m\u001b[1;33m\u001b[0m\u001b[0m\n\u001b[0m\u001b[0;32m     36\u001b[0m \u001b[1;33m\u001b[0m\u001b[0m\n\u001b[0;32m     37\u001b[0m    \u001b[1;31m#y(i+1) gives an error, so y(i-1)=y(i), y-intermediate is y'(i) determined by euler's method\u001b[0m\u001b[1;33m\u001b[0m\u001b[1;33m\u001b[0m\u001b[0m\n",
      "\u001b[1;31mIndexError\u001b[0m: list index out of range"
     ]
    }
   ],
   "source": [
    "import math\n",
    "import numpy as np\n",
    "import matplotlib.pyplot as plt\n",
    "%matplotlib inline\n",
    "\n",
    "def y1(x,y):\n",
    "    return y\n",
    "\n",
    "\n",
    "def asol(x,y): \n",
    "    return (0.00035-(925*.022*(22+2*y*10**(1/2)/3)**(2/3))/(1.486*(22*y+1/3*y**2)**(5/3)))/(1-(925**2*(22+2/3*y)/(32.2*(22*y+1/3*y**2)**3)))\n",
    "\n",
    "\n",
    "h = -1000\n",
    "#stepsize of 100 ft per iteration\n",
    "x0 = 50000\n",
    "#22704 (number of feet in 4.3 miles)\n",
    "y0 = 11.7265\n",
    "#11.7265 feet, 6 ft above normal flow depth (5.7265 ft), the depth of water at bridge\n",
    "\n",
    "#below is our issue?????? the variables are wrong, y could maybe be on the step size?\n",
    "#\n",
    "#\n",
    "#\n",
    "x = np.arange(50000, 0, h)\n",
    "#x goes zero to 4.3 miles by 100 ft stepsize (h)\n",
    "#y = [11.7265]\n",
    "y[0] = y0\n",
    "x[0] = x0\n",
    "\n",
    "#print(x,y)\n",
    "\n",
    "for i in [0, 49]:\n",
    "\n",
    "    y_intermediate = y[i-1] + h*asol(x[i-1],y[i-1])\n",
    "   \n",
    "   #y(i+1) gives an error, so y(i-1)=y(i), y-intermediate is y'(i) determined by euler's method\n",
    "    \n",
    "    y[i] = y[i-1] + (h)*(asol(x[i-1],y[i-1]) + asol(x[i-1],y_intermediate))/2\n",
    "    print(x,y)\n",
    "    \n",
    "   # y = np.append(y, y[i])\n",
    "   # yasol = np.vectorize(asol)\n",
    "    \n",
    "   # replace(y[i])\n",
    "    \n",
    "\n",
    "    \n",
    "\n",
    "    \n",
    "    \n",
    "print(x,y)\n",
    "#prints the array to check values\n",
    "\n",
    "plt.plot(x, y, 'b-')\n",
    "plt.plot(x, yasol, 'g-')\n",
    "#blue line plot of x,y\n",
    "#green line plot of x,slope (dydxheun is the vector of slope)"
   ]
  },
  {
   "cell_type": "code",
   "execution_count": 18,
   "id": "ad9aab9b",
   "metadata": {},
   "outputs": [
    {
     "data": {
      "text/plain": [
       "(-0.006684441919495406-0.011597019079716595j)"
      ]
     },
     "execution_count": 18,
     "metadata": {},
     "output_type": "execute_result"
    }
   ],
   "source": [
    "y=-1.2235\n",
    "(0.00035-(925*.022*(22+2*y*10**(1/2)/3)**(2/3))/(1.486*(22*y+1/3*y**2)**(5/3)))/(1-925**2*(22+2/3*y)/(32.2*(22*y+1/3*y**2)**3))\n"
   ]
  },
  {
   "cell_type": "code",
   "execution_count": 15,
   "id": "4c7ab83b",
   "metadata": {
    "scrolled": true
   },
   "outputs": [
    {
     "data": {
      "text/plain": [
       "-0.01295387704178993"
      ]
     },
     "execution_count": 15,
     "metadata": {},
     "output_type": "execute_result"
    }
   ],
   "source": [
    "y=11.7265\n",
    "(0.00035-(925*.022*(22+2*y*10**(1/2)/3)**(2/3))/(1.486*(22*y+1/3*y**2)**(5/3)))/(1-925**2*(22+2/3*y)/(32.2*(22*y+1/3*y**2)**3))"
   ]
  },
  {
   "cell_type": "code",
   "execution_count": 49,
   "id": "0246a524",
   "metadata": {},
   "outputs": [
    {
     "name": "stdout",
     "output_type": "stream",
     "text": [
      "[22704 22604 22504 22404 22304 22204 22104 22004 21904 21804 21704 21604\n",
      " 21504 21404 21304 21204 21104 21004 20904 20804 20704 20604 20504 20404\n",
      " 20304 20204 20104 20004 19904 19804 19704 19604 19504 19404 19304 19204\n",
      " 19104 19004 18904 18804 18704 18604 18504 18404 18304 18204 18104 18004\n",
      " 17904 17804 17704 17604 17504 17404 17304 17204 17104 17004 16904 16804\n",
      " 16704 16604 16504 16404 16304 16204 16104 16004 15904 15804 15704 15604\n",
      " 15504 15404 15304 15204 15104 15004 14904 14804 14704 14604 14504 14404\n",
      " 14304 14204 14104 14004 13904 13804 13704 13604 13504 13404 13304 13204\n",
      " 13104 13004 12904 12804 12704 12604 12504 12404 12304 12204 12104 12004\n",
      " 11904 11804 11704 11604 11504 11404 11304 11204 11104 11004 10904 10804\n",
      " 10704 10604 10504 10404 10304 10204 10104 10004  9904  9804  9704  9604\n",
      "  9504  9404  9304  9204  9104  9004  8904  8804  8704  8604  8504  8404\n",
      "  8304  8204  8104  8004  7904  7804  7704  7604  7504  7404  7304  7204\n",
      "  7104  7004  6904  6804  6704  6604  6504  6404  6304  6204  6104  6004\n",
      "  5904  5804  5704  5604  5504  5404  5304  5204  5104  5004  4904  4804\n",
      "  4704  4604  4504  4404  4304  4204  4104  4004  3904  3804  3704  3604\n",
      "  3504  3404  3304  3204  3104  3004  2904  2804  2704  2604  2504  2404\n",
      "  2304  2204  2104  2004  1904  1804  1704  1604  1504  1404  1304  1204\n",
      "  1104  1004   904   804   704   604   504   404   304   204   104     4] [1.17265000e+001 5.74715765e+004 2.81668196e+008 1.38045583e+012\n",
      " 6.76561403e+015 3.31582743e+019 1.62508703e+023 7.96455151e+026\n",
      " 3.90342670e+030 1.91306942e+034 9.37595325e+037 4.59515469e+041\n",
      " 2.25208531e+045 1.10374701e+049 5.40946410e+052 2.65117836e+056\n",
      " 1.29934251e+060 6.36807765e+063 3.12099486e+067 1.52959958e+071\n",
      " 7.49656754e+074 3.67406775e+078 1.80066061e+082 8.82503763e+085\n",
      " 4.32515094e+089 2.11975648e+093 1.03889265e+097 5.09161287e+100\n",
      " 2.49539947e+104 1.22299528e+108 5.99389986e+111 2.93761032e+115\n",
      " 1.43972282e+119 7.05608154e+122 3.45818556e+126 1.69485674e+130\n",
      " 8.30649290e+133 4.07101217e+137 1.99520307e+141 9.77849022e+144\n",
      " 4.79243806e+148 2.34877389e+152 1.15113408e+156 5.64170815e+159\n",
      " 2.76500116e+163 1.35512707e+167 6.64147777e+170 3.25498826e+174\n",
      " 1.59526974e+178 7.81841702e+181 3.83180618e+185 1.87796821e+189\n",
      " 9.20392219e+192 4.51084227e+196 2.21076379e+200 1.08349534e+204\n",
      " 5.31021064e+207 2.60253423e+211 1.27550203e+215 6.25123544e+218\n",
      " 3.06373049e+222 1.50153431e+226 7.35901967e+229 3.60665554e+233\n",
      " 1.76762188e+237 8.66311483e+240 4.24579258e+244 2.08086294e+248\n",
      " 1.01983093e+252 4.99819138e+255 2.44961360e+259 1.20055562e+263\n",
      " 5.88392311e+266 2.88371072e+270 1.41330662e+274 6.92661575e+277\n",
      " 3.39473438e+281 1.66375932e+285 8.15408443e+288 3.99631678e+292\n",
      " 1.95859485e+296 9.59907337e+299 4.70450586e+303 2.30567832e+307\n",
      "             inf             nan             nan             nan\n",
      "             nan             nan             nan             nan\n",
      "             nan             nan             nan             nan\n",
      "             nan             nan             nan             nan\n",
      "             nan             nan             nan             nan\n",
      "             nan             nan             nan             nan\n",
      "             nan             nan             nan             nan\n",
      "             nan             nan             nan             nan\n",
      "             nan             nan             nan             nan\n",
      "             nan             nan             nan             nan\n",
      "             nan             nan             nan             nan\n",
      "             nan             nan             nan             nan\n",
      "             nan             nan             nan             nan\n",
      "             nan             nan             nan             nan\n",
      "             nan             nan             nan             nan\n",
      "             nan             nan             nan             nan\n",
      "             nan             nan             nan             nan\n",
      "             nan             nan             nan             nan\n",
      "             nan             nan             nan             nan\n",
      "             nan             nan             nan             nan\n",
      "             nan             nan             nan             nan\n",
      "             nan             nan             nan             nan\n",
      "             nan             nan             nan             nan\n",
      "             nan             nan             nan             nan\n",
      "             nan             nan             nan             nan\n",
      "             nan             nan             nan             nan\n",
      "             nan             nan             nan             nan\n",
      "             nan             nan             nan             nan\n",
      "             nan             nan             nan             nan\n",
      "             nan             nan             nan             nan\n",
      "             nan             nan             nan             nan\n",
      "             nan             nan             nan             nan\n",
      "             nan             nan             nan             nan\n",
      "             nan             nan             nan             nan\n",
      "             nan             nan             nan             nan\n",
      "             nan             nan             nan             nan]\n",
      "<function y1 at 0x00000199175ECB80>\n"
     ]
    },
    {
     "name": "stderr",
     "output_type": "stream",
     "text": [
      "C:\\Users\\Jordan\\AppData\\Local\\Temp/ipykernel_9432/823636989.py:32: RuntimeWarning: overflow encountered in double_scalars\n",
      "  y_intermediate = y[i-1] + h*y1(x[i-1],y[i-1])\n",
      "C:\\Users\\Jordan\\AppData\\Local\\Temp/ipykernel_9432/823636989.py:32: RuntimeWarning: invalid value encountered in double_scalars\n",
      "  y_intermediate = y[i-1] + h*y1(x[i-1],y[i-1])\n"
     ]
    },
    {
     "data": {
      "text/plain": [
       "[<matplotlib.lines.Line2D at 0x19917790550>]"
      ]
     },
     "execution_count": 49,
     "metadata": {},
     "output_type": "execute_result"
    },
    {
     "data": {
      "image/png": "[encoded data removed]",
      "text/plain": [
       "<Figure size 432x288 with 1 Axes>"
      ]
     },
     "metadata": {
      "needs_background": "light"
     },
     "output_type": "display_data"
    }
   ],
   "source": [
    "import math\n",
    "import numpy as np\n",
    "import matplotlib.pyplot as plt\n",
    "%matplotlib inline\n",
    "\n",
    "def y1(x,y):\n",
    "    return y\n",
    "\n",
    "\n",
    "def asol(y):\n",
    "    return (0.00035-(925*.022*(22+2*y*10^(1/2)/3)^(2/3))/1.486*(22*y+1/3*y^2)^(5/3))/(1-925^2*(22+2/3*y)/(32.2*(22*y+1/3*y^2)^3))\n",
    "        \n",
    "yasol = np.vectorize(asol)\n",
    "\n",
    "h = -100\n",
    "#stepsize of 1ft per iteration\n",
    "x0 = 22704\n",
    "#22704 (number of feet in 4.3 miles)\n",
    "y0 = 11.7265\n",
    "#11.7265 feet, 6 ft above normal flow depth (5.7265 ft), the depth of water at bridge\n",
    "\n",
    "#below is our issue: the variables are wrong, y could maybe be on the step size?\n",
    "#\n",
    "#\n",
    "#\n",
    "x = np.arange(22704, 0, h)\n",
    "#x goes from 4.3 miles to zero by -1 ft stepsize (h)\n",
    "y = np.zeros(x.size)\n",
    "y[0] = y0\n",
    "\n",
    "for i in range(1, x.size):\n",
    "    y_intermediate = y[i-1] + h*y1(x[i-1],y[i-1])\n",
    "    #y(i+1) gives an error, so y(i-1)=y(i), y-intermediate is y(i) determined by euler's method\n",
    "\n",
    "    y[i] = y[i-1] + (h/2.0)*(y1(x[i-1],y[i-1]) + y1(x[i],y_intermediate))\n",
    "        \n",
    "print(x,y)\n",
    "#prints the array to check values\n",
    "\n",
    "print(y1)\n",
    "\n",
    "plt.plot(x, y, 'b-')\n",
    "#blue line plot"
   ]
  }
 ],
 "metadata": {
  "kernelspec": {
   "display_name": "Python 3 (ipykernel)",
   "language": "python",
   "name": "python3"
  },
  "language_info": {
   "codemirror_mode": {
    "name": "ipython",
    "version": 3
   },
   "file_extension": ".py",
   "mimetype": "text/x-python",
   "name": "python",
   "nbconvert_exporter": "python",
   "pygments_lexer": "ipython3",
   "version": "3.9.7"
  }
 },
 "nbformat": 4,
 "nbformat_minor": 5
}
